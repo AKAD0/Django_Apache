{
 "cells": [
  {
   "cell_type": "code",
   "execution_count": 1,
   "metadata": {},
   "outputs": [],
   "source": [
    "import sqlite3\n",
    "cursor = sqlite3.connect('db.sqlite3').cursor()"
   ]
  },
  {
   "cell_type": "code",
   "execution_count": 2,
   "metadata": {},
   "outputs": [
    {
     "data": {
      "text/plain": [
       "[('django_migrations',),\n",
       " ('sqlite_sequence',),\n",
       " ('auth_group_permissions',),\n",
       " ('auth_user_groups',),\n",
       " ('auth_user_user_permissions',),\n",
       " ('auth_group_permissions_group_id_permission_id_0cd325b0_uniq',),\n",
       " ('auth_group_permissions_group_id_b120cbf9',),\n",
       " ('auth_group_permissions_permission_id_84c5c92e',),\n",
       " ('auth_user_groups_user_id_group_id_94350c0c_uniq',),\n",
       " ('auth_user_groups_user_id_6a12ed8b',),\n",
       " ('auth_user_groups_group_id_97559544',),\n",
       " ('auth_user_user_permissions_user_id_permission_id_14a6b632_uniq',),\n",
       " ('auth_user_user_permissions_user_id_a95ead1b',),\n",
       " ('auth_user_user_permissions_permission_id_1fbb5f2c',),\n",
       " ('django_admin_log',),\n",
       " ('django_admin_log_content_type_id_c4bce8eb',),\n",
       " ('django_admin_log_user_id_c564eba6',),\n",
       " ('django_content_type',),\n",
       " ('django_content_type_app_label_model_76bd3d3b_uniq',),\n",
       " ('auth_permission',),\n",
       " ('auth_permission_content_type_id_codename_01ab375a_uniq',),\n",
       " ('auth_permission_content_type_id_2f476e4b',),\n",
       " ('auth_group',),\n",
       " ('sqlite_autoindex_auth_group_1',),\n",
       " ('auth_user',),\n",
       " ('sqlite_autoindex_auth_user_1',),\n",
       " ('django_session',),\n",
       " ('sqlite_autoindex_django_session_1',),\n",
       " ('django_session_expire_date_a5c62663',),\n",
       " ('polls_question',),\n",
       " ('polls_choice',),\n",
       " ('polls_choice_question_id_c5b4b260',)]"
      ]
     },
     "execution_count": 2,
     "metadata": {},
     "output_type": "execute_result"
    }
   ],
   "source": [
    "# Check tables\n",
    "cursor.execute( \"\"\"\n",
    "                SELECT NAME\n",
    "                FROM sqlite_schema\n",
    "                \"\"\")\n",
    "cursor.fetchall()\n",
    "#\n",
    "#"
   ]
  }
 ],
 "metadata": {
  "kernelspec": {
   "display_name": "Python 3",
   "language": "python",
   "name": "python3"
  },
  "language_info": {
   "codemirror_mode": {
    "name": "ipython",
    "version": 3
   },
   "file_extension": ".py",
   "mimetype": "text/x-python",
   "name": "python",
   "nbconvert_exporter": "python",
   "pygments_lexer": "ipython3",
   "version": "3.10.10"
  },
  "orig_nbformat": 4
 },
 "nbformat": 4,
 "nbformat_minor": 2
}
